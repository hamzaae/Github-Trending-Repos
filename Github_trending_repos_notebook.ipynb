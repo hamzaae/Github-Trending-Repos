{
 "cells": [
  {
   "cell_type": "code",
   "execution_count": null,
   "metadata": {
    "application/vnd.databricks.v1+cell": {
     "cellMetadata": {
      "byteLimit": 2048000,
      "rowLimit": 10000
     },
     "inputWidgets": {},
     "nuid": "3c4a8139-faf9-4bd1-b962-d33a9f01a1b4",
     "showTitle": false,
     "title": ""
    }
   },
   "outputs": [],
   "source": [
    "!pip install azure-storage-blob"
   ]
  },
  {
   "cell_type": "code",
   "execution_count": null,
   "metadata": {
    "application/vnd.databricks.v1+cell": {
     "cellMetadata": {
      "byteLimit": 2048000,
      "rowLimit": 10000
     },
     "inputWidgets": {},
     "nuid": "d32e36cd-9c7c-4461-a7f2-33ff35a6e268",
     "showTitle": false,
     "title": ""
    }
   },
   "outputs": [],
   "source": [
    "from pyspark.sql import SparkSession\n",
    "from pyspark.sql.functions import col, avg, desc, row_number\n",
    "from pyspark.sql.window import Window"
   ]
  },
  {
   "cell_type": "code",
   "execution_count": null,
   "metadata": {
    "application/vnd.databricks.v1+cell": {
     "cellMetadata": {
      "byteLimit": 2048000,
      "rowLimit": 10000
     },
     "inputWidgets": {},
     "nuid": "9c7b5c67-78ff-473f-ab33-7e791168f2ef",
     "showTitle": false,
     "title": ""
    }
   },
   "outputs": [],
   "source": [
    "from azure.storage.blob import BlobServiceClient"
   ]
  },
  {
   "cell_type": "markdown",
   "metadata": {
    "application/vnd.databricks.v1+cell": {
     "cellMetadata": {
      "byteLimit": 2048000,
      "rowLimit": 10000
     },
     "inputWidgets": {},
     "nuid": "68e560ca-af2f-43a2-9469-df9351d241f4",
     "showTitle": false,
     "title": ""
    }
   },
   "source": [
    "PART 1: IMPORT DATA"
   ]
  },
  {
   "cell_type": "code",
   "execution_count": null,
   "metadata": {
    "application/vnd.databricks.v1+cell": {
     "cellMetadata": {
      "byteLimit": 2048000,
      "rowLimit": 10000
     },
     "inputWidgets": {},
     "nuid": "f783ef01-953b-4762-a4f8-509c7b658004",
     "showTitle": false,
     "title": ""
    }
   },
   "outputs": [],
   "source": [
    "# Databricks notebook source\n",
    "# input\n",
    "blob_account_name = \"\"\n",
    "blob_container_name = \"\"\n",
    "blob_relative_path = \"\" \n",
    "blob_relative_path_out = \"\"\n",
    "blob_sas_token = r\"\""
   ]
  },
  {
   "cell_type": "code",
   "execution_count": null,
   "metadata": {
    "application/vnd.databricks.v1+cell": {
     "cellMetadata": {
      "byteLimit": 2048000,
      "rowLimit": 10000
     },
     "inputWidgets": {},
     "nuid": "02b36493-bb02-4894-ac86-2900a185fe3c",
     "showTitle": false,
     "title": ""
    }
   },
   "outputs": [],
   "source": [
    "wasbs_path = 'wasbs://%s@%s.blob.core.windows.net/%s' % (blob_container_name, blob_account_name, blob_relative_path)\n",
    "spark.conf.set('fs.azure.sas.%s.%s.blob.core.windows.net' % (blob_container_name, blob_account_name), blob_sas_token)\n",
    "print('Remote blob path: ' + wasbs_path)"
   ]
  },
  {
   "cell_type": "code",
   "execution_count": null,
   "metadata": {
    "application/vnd.databricks.v1+cell": {
     "cellMetadata": {
      "byteLimit": 2048000,
      "rowLimit": 10000
     },
     "inputWidgets": {},
     "nuid": "f8261748-e05c-4a29-88fb-810135462112",
     "showTitle": false,
     "title": ""
    }
   },
   "outputs": [],
   "source": [
    "df = spark.read.option(\"header\", \"true\").csv(wasbs_path)\n",
    "print('Register the DataFrame as a SQL temporary view: source')\n",
    "df.createOrReplaceTempView('source')"
   ]
  },
  {
   "cell_type": "markdown",
   "metadata": {
    "application/vnd.databricks.v1+cell": {
     "cellMetadata": {
      "byteLimit": 2048000,
      "rowLimit": 10000
     },
     "inputWidgets": {},
     "nuid": "25dacffa-e94c-4e43-a1b5-f2d0b7ef867c",
     "showTitle": false,
     "title": ""
    }
   },
   "source": [
    "PART 2 : DO SOME TRANSFORMATIONS"
   ]
  },
  {
   "cell_type": "code",
   "execution_count": null,
   "metadata": {
    "application/vnd.databricks.v1+cell": {
     "cellMetadata": {
      "byteLimit": 2048000,
      "rowLimit": 10000
     },
     "inputWidgets": {},
     "nuid": "eefdf411-0cae-4585-88f4-2a925dc66224",
     "showTitle": false,
     "title": ""
    }
   },
   "outputs": [],
   "source": [
    "# Filter repositories with more than 1000 stars\n",
    "filtered_df = df.filter(df.stars > 1000)\n",
    "\n",
    "# Calculate a new column for the ratio of forks to stars # df1 --> df_with_ratio\n",
    "df_with_ratio = filtered_df.withColumn(\"forks_to_stars_ratio\", col(\"forks\") / col(\"stars\"))\n",
    "\n",
    "# Group by language and calculate average stars and forks # df2 --> agg_df\n",
    "agg_df = df.groupBy(\"language\").agg(avg(\"stars\").alias(\"avg_stars\"), avg(\"forks\").alias(\"avg_forks\"))\n",
    "\n",
    "# Rank repositories within each language group based on stars # df3 --> ranked_within_group_df\n",
    "windowSpec = Window.partitionBy(\"language\").orderBy(desc(\"stars\"))\n",
    "ranked_within_group_df = df.withColumn(\"rank_within_group\", row_number().over(windowSpec))"
   ]
  },
  {
   "cell_type": "markdown",
   "metadata": {
    "application/vnd.databricks.v1+cell": {
     "cellMetadata": {
      "byteLimit": 2048000,
      "rowLimit": 10000
     },
     "inputWidgets": {},
     "nuid": "64d1d0c9-b307-4dd8-b2a5-299f553e6237",
     "showTitle": false,
     "title": ""
    }
   },
   "source": [
    "PART 3: WRITE BACK"
   ]
  },
  {
   "cell_type": "code",
   "execution_count": null,
   "metadata": {
    "application/vnd.databricks.v1+cell": {
     "cellMetadata": {
      "byteLimit": 2048000,
      "rowLimit": 10000
     },
     "inputWidgets": {},
     "nuid": "d27107c1-e924-4535-ad38-9a7d26de0c61",
     "showTitle": false,
     "title": ""
    }
   },
   "outputs": [],
   "source": [
    "# Define blob details\n",
    "account_name = \"\"\n",
    "container_name = \"\"\n",
    "connection_string =\"\"\n",
    "\n",
    "# Create a BlobServiceClient using the Azure Storage connection string\n",
    "blob_service_client = BlobServiceClient.from_connection_string(connection_string)"
   ]
  },
  {
   "cell_type": "code",
   "execution_count": null,
   "metadata": {
    "application/vnd.databricks.v1+cell": {
     "cellMetadata": {
      "byteLimit": 2048000,
      "rowLimit": 10000
     },
     "inputWidgets": {},
     "nuid": "969d8833-60da-4011-9789-9b185ece31bd",
     "showTitle": false,
     "title": ""
    }
   },
   "outputs": [],
   "source": [
    "# Convert DataFrames to CSV content\n",
    "filtered_content = filtered_df.toPandas().to_csv(index=False)\n",
    "ratio_content = df_with_ratio.toPandas().to_csv(index=False)\n",
    "agg_content = agg_df.toPandas().to_csv(index=False)\n",
    "ranked_content = ranked_within_group_df.toPandas().to_csv(index=False)"
   ]
  },
  {
   "cell_type": "code",
   "execution_count": null,
   "metadata": {
    "application/vnd.databricks.v1+cell": {
     "cellMetadata": {
      "byteLimit": 2048000,
      "rowLimit": 10000
     },
     "inputWidgets": {},
     "nuid": "00459624-7d46-42d1-91b7-888476a13a67",
     "showTitle": false,
     "title": ""
    }
   },
   "outputs": [],
   "source": [
    "# Upload the content back to the blob\n",
    "blob_client = blob_service_client.get_blob_client(container=container_name, blob=\"FilteredDataFrame.csv\")\n",
    "blob_client.upload_blob(filtered_content, overwrite=True)\n",
    "\n",
    "blob_client = blob_service_client.get_blob_client(container=container_name, blob=\"DataFrameRatio.csv\")\n",
    "blob_client.upload_blob(ratio_content, overwrite=True)\n",
    "\n",
    "blob_client = blob_service_client.get_blob_client(container=container_name, blob=\"AggregatedDataFrame.csv\")\n",
    "blob_client.upload_blob(agg_content, overwrite=True)\n",
    "\n",
    "blob_client = blob_service_client.get_blob_client(container=container_name, blob=\"RankedDataFrame.csv\")\n",
    "blob_client.upload_blob(ranked_content, overwrite=True)\n",
    "\n",
    "print(\"Content uploaded to the blob.\")"
   ]
  }
 ],
 "metadata": {
  "application/vnd.databricks.v1+notebook": {
   "dashboards": [],
   "language": "python",
   "notebookMetadata": {
    "pythonIndentUnit": 4
   },
   "notebookName": "Github_trending_repos_notebook",
   "widgets": {}
  },
  "language_info": {
   "name": "python"
  }
 },
 "nbformat": 4,
 "nbformat_minor": 0
}
